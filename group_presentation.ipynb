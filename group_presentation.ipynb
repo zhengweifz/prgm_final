{
 "cells": [
  {
   "cell_type": "markdown",
   "metadata": {},
   "source": [
    "# Guiding Question\n",
    "  ### How does unemployment rate for individual states change with repsect to changes in  US GDP?\n",
    "# Why is the question of interest to us?\n",
    "  ### In December 2007, at the start of the recession, the US unemployment rate was 5%. By the end of the recession, in October 2009, the unemployment rate peaked at 10%. We wanted to see how national shifts in the economy translate to regional impacts by seeing how changes in the US GDP affect individual states."
   ]
  },
  {
   "cell_type": "code",
   "execution_count": 1,
   "metadata": {
    "collapsed": false
   },
   "outputs": [],
   "source": [
    "import os\n",
    "import pandas as pd\n",
    "import requests as rq\n",
    "import json \n",
    "import urllib2\n",
    "from bs4 import BeautifulSoup as bs\n",
    "import re\n",
    "import pandas as pd\n",
    "import MySQLdb as mySQL\n",
    "import pandas.io.sql as pdSQL"
   ]
  },
  {
   "cell_type": "markdown",
   "metadata": {},
   "source": [
    "### Retreive unemployment data from Federal Reserve Economic Data"
   ]
  },
  {
   "cell_type": "code",
   "execution_count": 2,
   "metadata": {
    "collapsed": false
   },
   "outputs": [],
   "source": [
    "\n",
    "\"\"\"\n",
    "Created on Sat Nov 28 14:29:42 2015\n",
    "\n",
    "@authors: Sonya Tahir, Amit Talapatra, Wendy Zhang, Wei Zheng\n",
    "\"\"\"\n",
    "\n",
    "def create_link(state):\n",
    "    \"\"\"\n",
    "    purpose: helper function create api link for FRED\n",
    "    \"\"\"\n",
    "    query_params = {\n",
    "        \"api_key\": \"ba56d8833265bdeb2ba533cd5d901905\",\n",
    "        \"file_type\": \"json\",\n",
    "        \"observation_start\": '1976-01-01',\n",
    "        \"observation_end\": \"2015-09-01\",\n",
    "        \"series_id\": state + \"UR\"\n",
    "    }\n",
    "    queries = ['{0}={1}'.format(key, query_params[key]) for key in query_params]\n",
    "    qry_str = \"&\".join(queries)\n",
    "    fed_url = \"https://api.stlouisfed.org/fred/series/observations?\" + qry_str\n",
    "    return fed_url\n",
    "\n",
    "def get_series(link, state):\n",
    "    \"\"\"\n",
    "    purpose: given a link, return state unemployment rate\n",
    "    \"\"\"\n",
    "    response = rq.get(link)\n",
    "    data_dict = json.loads(response.text)\n",
    "    obs = data_dict[\"observations\"]\n",
    "    obs_json = json.dumps(obs)\n",
    "    df = pd.read_json(obs_json)\n",
    "    df['date'] = pd.to_datetime(df['date'])    \n",
    "    df = df[['date','value']]\n",
    "    df.columns = ['date', state]\n",
    "    df.set_index('date', inplace=True)\n",
    "    return df\n",
    "    \n",
    "def get_state_ur():\n",
    "    \"\"\"\n",
    "    purpose: get unemployment rates for 50 states\n",
    "    \"\"\"\n",
    "    states = [\"AL\",\"AK\",\"AZ\",\"AR\",\"CA\",\"CO\",\"CT\",\"DE\",\"FL\",\"GA\",\"HI\",\"ID\",\n",
    "              \"IL\",\"IN\",\"IA\",\"KS\",\"KY\",\"LA\",\"ME\",\"MD\",\"MA\",\"MI\",\"MN\",\"MS\",\n",
    "              \"MO\",\"MT\",\"NE\",\"NV\",\"NH\",\"NJ\",\"NM\",\"NY\",\"NC\",\"ND\",\"OH\",\"OK\",\n",
    "              \"OR\",\"PA\",\"RI\",\"SC\",\"SD\",\"TN\",\"TX\",\"UT\",\"VT\",\"VA\",\"WA\",\"WV\",\n",
    "              \"WI\",\"WY\"]\n",
    "    series = []\n",
    "    for state in states:\n",
    "        link = create_link(state)\n",
    "        series.append(get_series(link, state))\n",
    "    all_states = series[0]\n",
    "    for ser in series[1:]:\n",
    "        all_states = all_states.merge(ser, right_index=True, left_index=True) \n",
    "    return all_states\n",
    "\n",
    "def state_ur_annually(all_states):\n",
    "    \"\"\"\n",
    "    purpose: calculate annual rates\n",
    "    \"\"\"\n",
    "    all_states.reset_index(level=0, inplace=True)\n",
    "    all_states['date'] = all_states['date'].astype(str)\n",
    "    all_states['date'] = all_states['date'].str[:4]\n",
    "    all_states.rename(columns={'date': 'year'}, inplace=True)\n",
    "    all_states = all_states.groupby('year').mean()  \n",
    "    return all_states\n",
    "\n",
    "def state_ur_monthly():\n",
    "    \"\"\"\n",
    "    purpose: transform data for R mapping codes\n",
    "    \"\"\"\n",
    "    states = [\"AL\",\"AK\",\"AZ\",\"AR\",\"CA\",\"CO\",\"CT\",\"DE\",\"FL\",\"GA\",\"HI\",\"ID\",\n",
    "              \"IL\",\"IN\",\"IA\",\"KS\",\"KY\",\"LA\",\"ME\",\"MD\",\"MA\",\"MI\",\"MN\",\"MS\",\n",
    "              \"MO\",\"MT\",\"NE\",\"NV\",\"NH\",\"NJ\",\"NM\",\"NY\",\"NC\",\"ND\",\"OH\",\"OK\",\n",
    "              \"OR\",\"PA\",\"RI\",\"SC\",\"SD\",\"TN\",\"TX\",\"UT\",\"VT\",\"VA\",\"WA\",\"WV\",\n",
    "              \"WI\",\"WY\"]\n",
    "    series = []\n",
    "    for state in states:\n",
    "        link = create_link(state)\n",
    "        series.append(get_series(link, state))\n",
    "    all_states = series[0]\n",
    "    for ser in series[1:]:\n",
    "        all_states = all_states.merge(ser, right_index=True, left_index=True)\n",
    "    all_states_long = all_states.stack().reset_index()\n",
    "    all_states_long.columns = ['Date', 'State', 'UR']\n",
    "    us_state_abbrev = {\n",
    "            'Alabama': 'AL',\n",
    "            'Alaska': 'AK',\n",
    "            'Arizona': 'AZ',\n",
    "            'Arkansas': 'AR',\n",
    "            'California': 'CA',\n",
    "            'Colorado': 'CO',\n",
    "            'Connecticut': 'CT',\n",
    "            'Delaware': 'DE',\n",
    "            'Florida': 'FL',\n",
    "            'Georgia': 'GA',\n",
    "            'Hawaii': 'HI',\n",
    "            'Idaho': 'ID',\n",
    "            'Illinois': 'IL',\n",
    "            'Indiana': 'IN',\n",
    "            'Iowa': 'IA',\n",
    "            'Kansas': 'KS',\n",
    "            'Kentucky': 'KY',\n",
    "            'Louisiana': 'LA',\n",
    "            'Maine': 'ME',\n",
    "            'Maryland': 'MD',\n",
    "            'Massachusetts': 'MA',\n",
    "            'Michigan': 'MI',\n",
    "            'Minnesota': 'MN',\n",
    "            'Mississippi': 'MS',\n",
    "            'Missouri': 'MO',\n",
    "            'Montana': 'MT',\n",
    "            'Nebraska': 'NE',\n",
    "            'Nevada': 'NV',\n",
    "            'New Hampshire': 'NH',\n",
    "            'New Jersey': 'NJ',\n",
    "            'New Mexico': 'NM',\n",
    "            'New York': 'NY',\n",
    "            'North Carolina': 'NC',\n",
    "            'North Dakota': 'ND',\n",
    "            'Ohio': 'OH',\n",
    "            'Oklahoma': 'OK',\n",
    "            'Oregon': 'OR',\n",
    "            'Pennsylvania': 'PA',\n",
    "            'Rhode Island': 'RI',\n",
    "            'South Carolina': 'SC',\n",
    "            'South Dakota': 'SD',\n",
    "            'Tennessee': 'TN',\n",
    "            'Texas': 'TX',\n",
    "            'Utah': 'UT',\n",
    "            'Vermont': 'VT',\n",
    "            'Virginia': 'VA',\n",
    "            'Washington': 'WA',\n",
    "            'West Virginia': 'WV',\n",
    "            'Wisconsin': 'WI',\n",
    "            'Wyoming': 'WY',\n",
    "        }\n",
    "    us_abbrev_state = {value: key.lower() for key, value in us_state_abbrev.iteritems()}\n",
    "    all_states_long['StateName'] = all_states_long['State'].map(us_abbrev_state)\n",
    "    return all_states_long\n",
    "    \n"
   ]
  },
  {
   "cell_type": "markdown",
   "metadata": {},
   "source": [
    "### Web scrapping for US GDP Data from US Bureau of Economic Analysis\n",
    "### http://www.multpl.com/us-gdp/table/by-year"
   ]
  },
  {
   "cell_type": "code",
   "execution_count": 3,
   "metadata": {
    "collapsed": false
   },
   "outputs": [],
   "source": [
    "# Scrapes US GDP Data from \"http://www.multpl.com/us-gdp/table/by-year\" and\n",
    "# returns a pandas dataframe\n",
    "def get_US_GDP():\n",
    "#   Pulls year and GDP data from table at link\n",
    "    USGDPDict = {}\n",
    "    USGDPLink = 'http://www.multpl.com/us-gdp/table/by-year'\n",
    "    html = urllib2.urlopen(USGDPLink).read()\n",
    "    soup = bs(html)\n",
    "    allYears = soup.findAll('td', { \"class\" : \"left\" })\n",
    "    allGDPs = soup.findAll('td', { \"class\" : \"right\" })\n",
    "#   Isolates year and GDP data and stores it in a dictionary \n",
    "    for i in range(0,len(allYears)):\n",
    "        allYears[i] = allYears[i].text.strip()\n",
    "        allGDPs[i] = allGDPs[i].text.strip()\n",
    "        year = re.split(r'\\s*', str(allYears[i]))\n",
    "        year = year[2]\n",
    "        GDP = re.split(r'\\s*', str(allGDPs[i]))\n",
    "        GDP = GDP[0]\n",
    "        USGDPDict[year] = GDP\n",
    "#   Converts dictionary to pandas dataframe\n",
    "    USGDPdf = pd.DataFrame(USGDPDict.items(), columns=['Year', 'US_GDP'])\n",
    "    USGDPdf = USGDPdf.sort('Year')\n",
    "    USGDPdf = USGDPdf.reset_index(drop=True)\n",
    "    return USGDPdf"
   ]
  },
  {
   "cell_type": "markdown",
   "metadata": {},
   "source": [
    "### Write to MYSQL"
   ]
  },
  {
   "cell_type": "code",
   "execution_count": 4,
   "metadata": {
    "collapsed": true
   },
   "outputs": [],
   "source": [
    "def df_to_mysql(dbName, tableName, df):\n",
    "    conn = mySQL.connect(host='localhost', user='root', passwd='root')\n",
    "    cursor = conn.cursor()\n",
    "    cursor.execute(\"CREATE DATABASE IF NOT EXISTS \" + dbName + \";\")      \n",
    "    conn = mySQL.connect(host='localhost', user='root', passwd='root', db=dbName)\n",
    "    df.to_sql(tableName, conn, flavor='mysql', if_exists='replace', index=False)\n",
    "    cursor = conn.cursor()\n",
    "    cursor.execute(' USE %s; ' % (dbName) ) \n",
    "##   UNCOMMENT TO SEE SQL TABLE DATA\n",
    "#    myDataFrame = pdSQL.read_sql('SELECT * FROM %s' % (tableName), conn)\n",
    "#    print myDataFrame\n",
    "    conn.close()\n",
    "\n",
    "def mysql_to_df(dbName, tableName):\n",
    "    conn = mySQL.connect(host='localhost', user='root', passwd='root', db=dbName)\n",
    "    df = pd.read_sql('SELECT * FROM %s;' % (tableName), con=conn)  \n",
    "    return df\n",
    "    conn.close()"
   ]
  },
  {
   "cell_type": "markdown",
   "metadata": {},
   "source": [
    "### Main Function"
   ]
  },
  {
   "cell_type": "code",
   "execution_count": 5,
   "metadata": {
    "collapsed": false
   },
   "outputs": [
    {
     "name": "stderr",
     "output_type": "stream",
     "text": [
      "/usr/local/lib/python2.7/dist-packages/ipykernel/__main__.py:4: Warning: Can't create database 'GroupProject'; database exists\n",
      "/usr/local/lib/python2.7/dist-packages/pandas/io/sql.py:599: FutureWarning: The 'mysql' flavor with DBAPI connection is deprecated and will be removed in future versions. MySQL will be further supported with SQLAlchemy engines.\n",
      "  warnings.warn(_MYSQL_WARNING, FutureWarning)\n"
     ]
    }
   ],
   "source": [
    "def main():\n",
    "    # GET DATA FROM WEB\n",
    "    stateURdf = get_state_ur()\n",
    "    USGDPdf = get_US_GDP()\n",
    "    \n",
    "    # FORMAT STATE DATA INTO ANNUAL AND MONTHLY DATASETS\n",
    "    allStatesAnnually = state_ur_annually(stateURdf)\n",
    "    allStatesMonthly = state_ur_monthly()\n",
    "    \n",
    "    # STORE DATA AS LOCAL CSV FILES TO USE FOR SHINY APP\n",
    "    allStatesAnnually.to_csv('allStatesAnnually.csv')\n",
    "    allStatesMonthly.to_csv('allStatesMonthly.csv')\n",
    "    USGDPdf.to_csv('USGDP.csv')\n",
    "    \n",
    "    # SEND DATA TO SQL\n",
    "    df_to_mysql('GroupProject', 'stateURAnnually', allStatesAnnually)\n",
    "    df_to_mysql('GroupProject', 'stateURMonthly', allStatesMonthly)\n",
    "    df_to_mysql('GroupProject', 'USGDPData', USGDPdf)\n",
    "    \n",
    "    # GET DATA FROM SQL AS DATAFRAMES\n",
    "    allStatesAnnually = mysql_to_df('GroupProject', 'stateURAnnually')\n",
    "    allStatesMonthly = mysql_to_df('GroupProject', 'stateURMonthly')\n",
    "    USGDPdf = mysql_to_df('GroupProject', 'USGDPData')\n",
    "    \n",
    "main()"
   ]
  },
  {
   "cell_type": "markdown",
   "metadata": {},
   "source": [
    "### Shiny App Demo"
   ]
  },
  {
   "cell_type": "code",
   "execution_count": null,
   "metadata": {
    "collapsed": true
   },
   "outputs": [],
   "source": []
  }
 ],
 "metadata": {
  "kernelspec": {
   "display_name": "Python 2",
   "language": "python",
   "name": "python2"
  },
  "language_info": {
   "codemirror_mode": {
    "name": "ipython",
    "version": 2
   },
   "file_extension": ".py",
   "mimetype": "text/x-python",
   "name": "python",
   "nbconvert_exporter": "python",
   "pygments_lexer": "ipython2",
   "version": "2.7.6"
  }
 },
 "nbformat": 4,
 "nbformat_minor": 0
}
